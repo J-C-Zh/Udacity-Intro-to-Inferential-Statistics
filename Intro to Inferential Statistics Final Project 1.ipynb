{
    "cells": [
        {
            "metadata": {
                "collapsed": true
            },
            "cell_type": "markdown",
            "source": "## Intro to Inferential Statistics Final Project -- Haberman\u2019s Survival Data"
        },
        {
            "metadata": {},
            "cell_type": "markdown",
            "source": "### __Introduction__\n\nThis project is the final project for Udacity course [Intro to Inferential Statistics](https://classroom.udacity.com/courses/ud201). \n\nThe Haberman\u2019s Survival data set gives 306 patients who had been diagnosed with breast cancer from 1958-1969. The data includes the age of the patient at time of operation, the year that they received the operation, the number of axil_nodes they were detected and the survival status after the operation. The goal of this analysis is to find out if there is a significant difference between those who survived longer or shorter than 5 years.  \n\nThe attribute information:\n1. Age of patient at time of operation (numerical)\n2. Patient's year of operation (year - 1900, numerical)\n3. Number of positive axillary nodes detected (numerical)\n4. Survival status (class attribute)\n-- 1 = the patient survived 5 years or longer\n-- 2 = the patient died within 5 year\n\nLet's read the data and store them in a dataframe called _data_."
        },
        {
            "metadata": {},
            "cell_type": "code",
            "source": "import pandas as pd\nimport math\nfile_path = \"http://archive.ics.uci.edu/ml/machine-learning-databases/haberman/haberman.data\"\ndata = pd.read_csv(file_path, header=None,delimiter=\",\", names=(['Patient age','Year of operation','Number of axillary nodes','Survival status']))\ndata",
            "execution_count": 16,
            "outputs": [
                {
                    "output_type": "execute_result",
                    "execution_count": 16,
                    "data": {
                        "text/plain": "     Patient age  Year of operation  Number of axillary nodes  Survival status\n0             30                 64                         1                1\n1             30                 62                         3                1\n2             30                 65                         0                1\n3             31                 59                         2                1\n4             31                 65                         4                1\n..           ...                ...                       ...              ...\n301           75                 62                         1                1\n302           76                 67                         0                1\n303           77                 65                         3                1\n304           78                 65                         1                2\n305           83                 58                         2                2\n\n[306 rows x 4 columns]",
                        "text/html": "<div>\n<style scoped>\n    .dataframe tbody tr th:only-of-type {\n        vertical-align: middle;\n    }\n\n    .dataframe tbody tr th {\n        vertical-align: top;\n    }\n\n    .dataframe thead th {\n        text-align: right;\n    }\n</style>\n<table border=\"1\" class=\"dataframe\">\n  <thead>\n    <tr style=\"text-align: right;\">\n      <th></th>\n      <th>Patient age</th>\n      <th>Year of operation</th>\n      <th>Number of axillary nodes</th>\n      <th>Survival status</th>\n    </tr>\n  </thead>\n  <tbody>\n    <tr>\n      <th>0</th>\n      <td>30</td>\n      <td>64</td>\n      <td>1</td>\n      <td>1</td>\n    </tr>\n    <tr>\n      <th>1</th>\n      <td>30</td>\n      <td>62</td>\n      <td>3</td>\n      <td>1</td>\n    </tr>\n    <tr>\n      <th>2</th>\n      <td>30</td>\n      <td>65</td>\n      <td>0</td>\n      <td>1</td>\n    </tr>\n    <tr>\n      <th>3</th>\n      <td>31</td>\n      <td>59</td>\n      <td>2</td>\n      <td>1</td>\n    </tr>\n    <tr>\n      <th>4</th>\n      <td>31</td>\n      <td>65</td>\n      <td>4</td>\n      <td>1</td>\n    </tr>\n    <tr>\n      <th>...</th>\n      <td>...</td>\n      <td>...</td>\n      <td>...</td>\n      <td>...</td>\n    </tr>\n    <tr>\n      <th>301</th>\n      <td>75</td>\n      <td>62</td>\n      <td>1</td>\n      <td>1</td>\n    </tr>\n    <tr>\n      <th>302</th>\n      <td>76</td>\n      <td>67</td>\n      <td>0</td>\n      <td>1</td>\n    </tr>\n    <tr>\n      <th>303</th>\n      <td>77</td>\n      <td>65</td>\n      <td>3</td>\n      <td>1</td>\n    </tr>\n    <tr>\n      <th>304</th>\n      <td>78</td>\n      <td>65</td>\n      <td>1</td>\n      <td>2</td>\n    </tr>\n    <tr>\n      <th>305</th>\n      <td>83</td>\n      <td>58</td>\n      <td>2</td>\n      <td>2</td>\n    </tr>\n  </tbody>\n</table>\n<p>306 rows \u00d7 4 columns</p>\n</div>"
                    },
                    "metadata": {}
                }
            ]
        },
        {
            "metadata": {},
            "cell_type": "markdown",
            "source": "### __Research Questions and Hypothesis__\n\nThere are four columns in Haberman's survival data. The first three columns, i.e. patient age, year of operation and number of axillary nodes are independent variables. The dependent variable is survival status. Among all the 306 patients, some survived more than 5 years. Did their age, year of operation or number of axillary nodes have significant differences from those who didn't survive longer? Do all three independent variables affect survival status?\n\nIn this project, we are going to analyze the correlation between the age and the axil_nodes detected, the age and survival year and the operation year. To simplify the labels, we define the patients who survived 5 years or longer as group 1 and those who died within 5 years as group 2.\n\nThe hypothesis would be described as follows. The null hypothesis would be the survival status happened by chance, i.e. age of patient at time of operation, year of operation year and axil_nodes for different survival status are equal. \nH0 :   age1 = age2, op_year1 = op_year2, nodes1= nodes2\nHA:   age1 \u2260 age2, op_year1 \u2260 op_year2, nodes1 \u2260 nodes2\n\nLet's check if there was any missing data, then split the data into two groups."
        },
        {
            "metadata": {},
            "cell_type": "code",
            "source": "data.isnull().sum()",
            "execution_count": 17,
            "outputs": [
                {
                    "output_type": "execute_result",
                    "execution_count": 17,
                    "data": {
                        "text/plain": "Patient age                 0\nYear of operation           0\nNumber of axillary nodes    0\nSurvival status             0\ndtype: int64"
                    },
                    "metadata": {}
                }
            ]
        },
        {
            "metadata": {},
            "cell_type": "code",
            "source": "import matplotlib.pyplot as plt\n\n\n\n# Bar chart showing average arrival delay for Spirit Airlines flights by month\nax = data.groupby('Survival status')['Patient age'].count().plot(kind='bar',figsize=(10,8))\nplt.title(\"Fig.1 Survival Status Count\")\n\n# Add label for vertical axis\nplt.xticks(rotation=360)\n\nfor i in range(data['Survival status'].unique()[1]):\n    ax.annotate(data[data['Survival status'] == i+1].shape[0],  \n                    xy = (1*i, data[data['Survival status'] == i+1].shape[0]+2),                    \n                    rotation= 0,                    \n                    ha='center'              \n               )\n\ngroup1 = data[data['Survival status'] == 1]\ngroup2 = data[data['Survival status'] == 2]\n",
            "execution_count": 18,
            "outputs": [
                {
                    "output_type": "display_data",
                    "data": {
                        "text/plain": "<Figure size 720x576 with 1 Axes>",
                        "image/png": "[encoded data removed]"
                    },
                    "metadata": {
                        "needs_background": "light"
                    }
                }
            ]
        },
        {
            "metadata": {},
            "cell_type": "markdown",
            "source": "There were 225 patients in group 1 and 81 patients in group 2."
        },
        {
            "metadata": {},
            "cell_type": "markdown",
            "source": "### __Experimental Design__\n\nBased on the hypothesis, we are going to use two tailed t-test for our hypothesis. Since the sample sizes are not nearly equal, we will use pooled variance to do the calculation."
        },
        {
            "metadata": {},
            "cell_type": "code",
            "source": "# Degree of Freedom for group 1\nn1= group1.shape[0]-1\ndf1=n1-1\n# Degree of Freedom for goup 2\nn2= group2.shape[0]-1\ndf2=n2-1\n\nprint('The degree of freedom for group1 is {}, the degree of freedom for group2 is {}'.format(df1,df2))",
            "execution_count": 19,
            "outputs": [
                {
                    "output_type": "stream",
                    "text": "The degree of freedom for group1 is 223, the degree of freedom for group2 is 79\n",
                    "name": "stdout"
                }
            ]
        },
        {
            "metadata": {},
            "cell_type": "code",
            "source": "# Calculate mean age, mean operation year and mean number of axillary nodes for each group\nmean_age1=group1['Patient age'].mean()\nmean_age2=group2['Patient age'].mean()\nmean_op_year1=group1['Year of operation'].mean()\nmean_op_year2=group2['Year of operation'].mean()\nmean_nodes1=group1['Number of axillary nodes'].mean()\nmean_nodes2=group2['Number of axillary nodes'].mean()\nprint('The mean age for group1 is {}, the mean age for group2 is {}'.format(mean_age1,mean_age2))\nprint('The mean of operation year for group1 is {}, the mean of operation year for group2 is {}'.format(mean_op_year1,mean_op_year2))\nprint('The mean number for axillary nodes of group1 is {}, the mean number for axillary nodes of group2 is {}'.format(mean_nodes1,mean_nodes2))",
            "execution_count": 20,
            "outputs": [
                {
                    "output_type": "stream",
                    "text": "The mean age for group1 is 52.01777777777778, the mean age for group2 is 53.67901234567901\nThe mean of operation year for group1 is 62.86222222222222, the mean of operation year for group2 is 62.82716049382716\nThe mean number for axillary nodes of group1 is 2.7911111111111113, the mean number for axillary nodes of group2 is 7.45679012345679\n",
                    "name": "stdout"
                }
            ]
        },
        {
            "metadata": {},
            "cell_type": "code",
            "source": "# Calculate the sum of squares\n\n# Sum of squares for age\nSS_age1 = sum((i-mean_age1)*(i-mean_age1) for i in group1['Patient age'])\nSS_age2 = sum((i-mean_age2)*(i-mean_age2) for i in group2['Patient age'])\n\n#Sum of squares for nodes\nSS_op_year1 = sum((i-mean_op_year1)*(i-mean_op_year1) for i in group1['Year of operation'])\nSS_op_year2 = sum((i-mean_op_year2)*(i-mean_op_year2) for i in group2['Year of operation'])\n\n#Sum of squares for number of nodes\nSS_nodes1 = sum((i-mean_nodes1)*(i-mean_nodes1) for i in group1['Number of axillary nodes'])\nSS_nodes2 = sum((i-mean_nodes2)*(i-mean_nodes2) for i in group2['Number of axillary nodes'])",
            "execution_count": 21,
            "outputs": []
        },
        {
            "metadata": {},
            "cell_type": "code",
            "source": "# Calculate pooled varience\n\npooled_variance_age = (SS_age1+SS_age2)/(df1+df2)\npooled_variance_op_year = (SS_op_year1+SS_op_year2)/(df1+df2)\npooled_variance_nodes = (SS_nodes1+SS_nodes2)/(df1+df2)\n",
            "execution_count": 22,
            "outputs": []
        },
        {
            "metadata": {},
            "cell_type": "code",
            "source": "# Calculate corrected standard error of the mean\nSE_age = math.sqrt(pooled_variance_age/n1+pooled_variance_age/n2)\n\nSE_op_year = math.sqrt(pooled_variance_op_year/n1+pooled_variance_op_year/n2)\n\nSE_nodes = math.sqrt(pooled_variance_nodes/n1+pooled_variance_nodes/n2)\n\nprint('The corrected standard error for age is {}'.format(SE_age))\nprint('The corrected standard error for operation year is {}'.format(SE_op_year))\nprint('The corrected standard error for the number of axillary nodes is {}'.format(SE_nodes))",
            "execution_count": 23,
            "outputs": [
                {
                    "output_type": "stream",
                    "text": "The corrected standard error for age is 1.410820799859231\nThe corrected standard error for operation year is 0.4253173504217685\nThe corrected standard error for the number of axillary nodes is 0.9015457967799282\n",
                    "name": "stdout"
                }
            ]
        },
        {
            "metadata": {
                "scrolled": true
            },
            "cell_type": "code",
            "source": "# Calculate t statistics\n\nt_age = (mean_age1-mean_age2)/SE_age\nt_op_year = (mean_op_year1-mean_op_year2)/SE_op_year\nt_nodes = (mean_nodes1-mean_nodes2)/SE_nodes\n\nprint('The t statistic for age is {}'.format(t_age))\nprint('The t statistic for operation year is {}'.format(t_op_year))\nprint('The t statistic for number of axillary nodes is {}'.format(t_nodes))",
            "execution_count": 24,
            "outputs": [
                {
                    "output_type": "stream",
                    "text": "The t statistic for age is -1.1774950922661382\nThe t statistic for operation year is 0.08243662846177068\nThe t statistic for number of axillary nodes is -5.175199118015072\n",
                    "name": "stdout"
                }
            ]
        },
        {
            "metadata": {},
            "cell_type": "code",
            "source": "# Calculate total degree of freedom\ndf = df1+df2 \ndf",
            "execution_count": 25,
            "outputs": [
                {
                    "output_type": "execute_result",
                    "execution_count": 25,
                    "data": {
                        "text/plain": "302"
                    },
                    "metadata": {}
                }
            ]
        },
        {
            "metadata": {},
            "cell_type": "markdown",
            "source": "By using the online [Statistical Ratio Calculator](https://www.graphpad.com/quickcalcs/statratio1/), we know that at alpha=0.05, df = 304, the two_tailed t_critical value is 1.9678. The t statistic values for age and operation year are smaller than t_critical value, so we'll have to retain the null for those two factors. But the t statistic for the number of axillary nodes is larger than t_critical value, we will reject the null. There is significant difference between the number of axillary nodes for the two groups."
        },
        {
            "metadata": {},
            "cell_type": "code",
            "source": "t_critical = 1.9678\n# Calculate margin of error\nMargin_age = t_critical*SE_age\nMargin_op_year = t_critical*SE_op_year\nMargin_nodes = t_critical*SE_nodes\n\nprint('The margin of error for age is {}'.format(Margin_age))\nprint('The margin of error for operation is {}'.format(Margin_op_year))\nprint('The margin of error for nodes is {}'.format(Margin_nodes))\n",
            "execution_count": 26,
            "outputs": [
                {
                    "output_type": "stream",
                    "text": "The margin of error for age is 2.7762131699629946\nThe margin of error for operation is 0.8369394821599561\nThe margin of error for nodes is 1.7740618189035426\n",
                    "name": "stdout"
                }
            ]
        },
        {
            "metadata": {},
            "cell_type": "code",
            "source": "# Calculate confidence interval\nCI_age_low=(mean_age1-mean_age2-Margin_age)\nCI_age_high = (mean_age1-mean_age2+Margin_age)\nprint('The confidence interval for age is ({},{})'.format(CI_age_low,CI_age_high))\n\nCI_op_year_low=(mean_op_year1-mean_op_year2-Margin_op_year)\nCI_op_year_high = (mean_op_year1-mean_op_year2+Margin_op_year)\nprint('The confidence interval for operation year is ({},{})'.format(CI_op_year_low,CI_op_year_high))\n\nCI_nodes_low=(mean_nodes1-mean_nodes2-Margin_nodes)\nCI_nodes_high = (mean_nodes1-mean_nodes2+Margin_nodes)\nprint('The confidence interval for nodes is ({},{})'.format(CI_nodes_low,CI_nodes_high))",
            "execution_count": 27,
            "outputs": [
                {
                    "output_type": "stream",
                    "text": "The confidence interval for age is (-4.437447737864227,1.1149786020617625)\nThe confidence interval for operation year is (-0.801877753764892,0.8720012105550201)\nThe confidence interval for nodes is (-6.439740831249222,-2.891617193442136)\n",
                    "name": "stdout"
                }
            ]
        },
        {
            "metadata": {},
            "cell_type": "markdown",
            "source": "If a 95% confidence interval includes the null value, then there is no statistically meaningful or statistically significant difference between the groups. We see that the confidence intervals for age and operation year include zero, meaning those two factors are not statistically significant. The number of axillary nodes is statistically significant because its confidence interval does not include zero."
        },
        {
            "metadata": {},
            "cell_type": "markdown",
            "source": " Python also provides built-in function called ttest_ind to calculate the t statistic values. Let's run the ttest_ind to verify the results."
        },
        {
            "metadata": {},
            "cell_type": "code",
            "source": "import scipy.stats \nscipy.stats.ttest_ind(group1['Patient age'], group2['Patient age'])",
            "execution_count": 28,
            "outputs": [
                {
                    "output_type": "execute_result",
                    "execution_count": 28,
                    "data": {
                        "text/plain": "Ttest_indResult(statistic=-1.1874990487687174, pvalue=0.23595785126829644)"
                    },
                    "metadata": {}
                }
            ]
        },
        {
            "metadata": {},
            "cell_type": "code",
            "source": "scipy.stats.ttest_ind(group1['Year of operation'], group2['Year of operation'])",
            "execution_count": 29,
            "outputs": [
                {
                    "output_type": "execute_result",
                    "execution_count": 29,
                    "data": {
                        "text/plain": "Ttest_indResult(statistic=0.08313700713066488, pvalue=0.9337973158604566)"
                    },
                    "metadata": {}
                }
            ]
        },
        {
            "metadata": {},
            "cell_type": "code",
            "source": "scipy.stats.ttest_ind(group1['Number of axillary nodes'], group2['Number of axillary nodes'])",
            "execution_count": 30,
            "outputs": [
                {
                    "output_type": "execute_result",
                    "execution_count": 30,
                    "data": {
                        "text/plain": "Ttest_indResult(statistic=-5.219167426001108, pvalue=3.335385116660208e-07)"
                    },
                    "metadata": {}
                }
            ]
        },
        {
            "metadata": {},
            "cell_type": "markdown",
            "source": "Python function gives the same results.The p value for the number of axillary nodes is very small."
        },
        {
            "metadata": {},
            "cell_type": "markdown",
            "source": "### Conclusion"
        },
        {
            "metadata": {},
            "cell_type": "markdown",
            "source": "There is no significant age difference or year of operation difference between the two groups. The main factor that affects the survival status is the number axillary nodes. People who did not survive more than 5 years have more axillary nodes than those who survived more than 5 years.  "
        }
    ],
    "metadata": {
        "kernelspec": {
            "name": "python3",
            "display_name": "Python 3.7",
            "language": "python"
        },
        "language_info": {
            "name": "python",
            "version": "3.7.9",
            "mimetype": "text/x-python",
            "codemirror_mode": {
                "name": "ipython",
                "version": 3
            },
            "pygments_lexer": "ipython3",
            "nbconvert_exporter": "python",
            "file_extension": ".py"
        }
    },
    "nbformat": 4,
    "nbformat_minor": 1
}